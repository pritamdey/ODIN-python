{
 "cells": [
  {
   "cell_type": "code",
   "execution_count": 1,
   "id": "aea3eccf",
   "metadata": {},
   "outputs": [],
   "source": [
    "import numpy as np\n",
    "import matplotlib.pyplot as plt\n",
    "from scipy.stats import kde\n",
    "import pandas as pd\n",
    "import ODIN\n",
    "import scipy.io as sio\n",
    "data_path = 'data/'"
   ]
  },
  {
   "cell_type": "code",
   "execution_count": 2,
   "id": "6a07bac8",
   "metadata": {},
   "outputs": [],
   "source": [
    "# functions for loading/saving data for .mat files\n",
    "import scipy.io as sio\n",
    "\n",
    "def save2mat(data, filename, key = 'data'):\n",
    "    sio.savemat(filename, {key : data})\n",
    "    return\n",
    "\n",
    "def load4mat(filename, key = 'data'):\n",
    "    return sio.loadmat(filename)[key]"
   ]
  },
  {
   "cell_type": "code",
   "execution_count": 3,
   "id": "0517face",
   "metadata": {},
   "outputs": [],
   "source": [
    "# This stores the biological structure of the connectome\n",
    "x_meta = pd.read_csv(data_path + 'LobeHemiMatrix.csv')\n",
    "lobe_locations = list(x_meta[\"Lobe\"])\n",
    "hemi_locations = list(x_meta[\"Hemisphere\"])\n",
    "\n",
    "\n",
    "# The binary adjacency matrices\n",
    "a = load4mat(data_path + 'A.mat')\n",
    "n = a.shape[2]"
   ]
  },
  {
   "cell_type": "code",
   "execution_count": null,
   "id": "1e932126",
   "metadata": {
    "scrolled": true
   },
   "outputs": [],
   "source": [
    "# Fitting the model, calculating influence, and detecting outliers\n",
    "\n",
    "outDetect = ODIN.ODIN(lam=0.001, maxiter=2000, tol=1e-6)\n",
    "outDetect.fit_and_detect_outliers(a=a, lobes=lobe_locations, hemis=hemi_locations)\n",
    "\n",
    "# Outliers and Inliers\n",
    "\n",
    "out = outDetect.outliers\n",
    "ins = np.sort(np.setdiff1d(np.arange(n), out))"
   ]
  },
  {
   "cell_type": "code",
   "execution_count": null,
   "id": "cd2cda81",
   "metadata": {},
   "outputs": [],
   "source": [
    "# Influence Plots\n",
    "\n",
    "plt.rcParams[\"figure.figsize\"] = (12, 10)\n",
    "plt.rcParams.update({'font.size': 16})\n",
    "\n",
    "fig, (ax1, ax2) = plt.subplots(2, 1)\n",
    "fig.subplots_adjust(bottom=0.1, top=0.9, hspace=0.35)\n",
    "\n",
    "ax1.plot(np.arange(n), outDetect.im1, color='black', marker='o', linestyle='', markersize=1)\n",
    "ax1.set_xlabel(\"index\")\n",
    "ax1.set_ylabel(\"$IM_1(index)$\")\n",
    "ax1.set_title(\"Influence Measure 1\")\n",
    "ax1.axhline(y=outDetect.thresh1, color='red', linestyle='-', lw=3)\n",
    "\n",
    "ax2.plot(np.arange(n), outDetect.im2, color='black', marker='o', linestyle='', markersize=1)\n",
    "ax2.set_xlabel(\"index\")\n",
    "ax2.set_ylabel(\"$IM_2(index)$\")\n",
    "ax2.set_title(\"Influence Measure 2\")\n",
    "ax2.axhline(y=outDetect.thresh2, color='red', linestyle='-', lw=3)\n",
    "\n",
    "plt.show()"
   ]
  },
  {
   "cell_type": "code",
   "execution_count": null,
   "id": "b6abaa15",
   "metadata": {},
   "outputs": [],
   "source": [
    "# No. of edges plots\n",
    "\n",
    "intra_hemisphere_edges = np.where(outDetect.x[:, 0] == 1)[0]\n",
    "inter_hemisphere_edges = np.where(outDetect.x[:, 0] == 0)[0]\n",
    "a1 = np.sum(outDetect.a[intra_hemisphere_edges, :], 0).reshape(n)\n",
    "a2 = np.sum(outDetect.a[inter_hemisphere_edges, :], 0).reshape(n)\n",
    "\n",
    "x1 = np.arange(0, 800, 0.1)\n",
    "density_intra_out = kde.gaussian_kde(a1[out])(x1)\n",
    "density_intra_in = kde.gaussian_kde(a1[ins])(x1)\n",
    "\n",
    "x2 = np.arange(250, 1150, 0.1)\n",
    "density_inter_out = kde.gaussian_kde(a2[out])(x2)\n",
    "density_inter_in = kde.gaussian_kde(a2[ins])(x2)\n",
    "\n",
    "plt.rcParams[\"figure.figsize\"] = (15, 9)\n",
    "plt.rcParams.update({'font.size': 16})\n",
    "\n",
    "fig, (ax1, ax2) = plt.subplots(2, 1)\n",
    "fig.subplots_adjust(bottom=0.1, top=0.9, hspace=0.35)\n",
    "\n",
    "ax1.plot(x1, density_intra_out)\n",
    "ax1.plot(x1, density_intra_in)\n",
    "ax1.set_xlabel(\"Number of edges\")\n",
    "ax1.set_ylabel(\"Density\")\n",
    "ax1.set_title(\"Number of edges connecting ROIs between hemispheres\")\n",
    "\n",
    "ax2.plot(x2, density_inter_out)\n",
    "ax2.plot(x2, density_inter_in)\n",
    "ax2.set_xlabel(\"Number of edges\")\n",
    "ax2.set_ylabel(\"Density\")\n",
    "ax2.set_title(\"Number of edges connecting ROIs within hemispheres\")\n",
    "\n",
    "plt.show()"
   ]
  }
 ],
 "metadata": {
  "kernelspec": {
   "display_name": "Python 3 (ipykernel)",
   "language": "python",
   "name": "python3"
  },
  "language_info": {
   "codemirror_mode": {
    "name": "ipython",
    "version": 3
   },
   "file_extension": ".py",
   "mimetype": "text/x-python",
   "name": "python",
   "nbconvert_exporter": "python",
   "pygments_lexer": "ipython3",
   "version": "3.10.0"
  }
 },
 "nbformat": 4,
 "nbformat_minor": 5
}
